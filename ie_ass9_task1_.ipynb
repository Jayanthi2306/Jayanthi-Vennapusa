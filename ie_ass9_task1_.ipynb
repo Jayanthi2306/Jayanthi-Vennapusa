{
  "nbformat": 4,
  "nbformat_minor": 0,
  "metadata": {
    "colab": {
      "provenance": []
    },
    "kernelspec": {
      "name": "python3",
      "display_name": "Python 3"
    },
    "language_info": {
      "name": "python"
    }
  },
  "cells": [
    {
      "cell_type": "code",
      "source": [
        "!pip install tools"
      ],
      "metadata": {
        "colab": {
          "base_uri": "https://localhost:8080/"
        },
        "id": "knTZP0F6Ho6U",
        "outputId": "d0079995-e4e7-4be1-b2d3-a67d7beac394"
      },
      "execution_count": 3,
      "outputs": [
        {
          "output_type": "stream",
          "name": "stdout",
          "text": [
            "Collecting tools\n",
            "  Downloading tools-1.0.6-py3-none-any.whl.metadata (1.3 kB)\n",
            "Downloading tools-1.0.6-py3-none-any.whl (40 kB)\n",
            "\u001b[?25l   \u001b[90m━━━━━━━━━━━━━━━━━━━━━━━━━━━━━━━━━━━━━━━━\u001b[0m \u001b[32m0.0/40.3 kB\u001b[0m \u001b[31m?\u001b[0m eta \u001b[36m-:--:--\u001b[0m\r\u001b[2K   \u001b[90m━━━━━━━━━━━━━━━━━━━━━━━━━━━━━━━━━━━━━━━━\u001b[0m \u001b[32m40.3/40.3 kB\u001b[0m \u001b[31m1.0 MB/s\u001b[0m eta \u001b[36m0:00:00\u001b[0m\n",
            "\u001b[?25hInstalling collected packages: tools\n",
            "Successfully installed tools-1.0.6\n"
          ]
        }
      ]
    },
    {
      "cell_type": "code",
      "source": [
        "!pip uninstall -y fitz\n",
        "!pip install PyMuPDF\n"
      ],
      "metadata": {
        "colab": {
          "base_uri": "https://localhost:8080/",
          "height": 276
        },
        "id": "h_TNgW2_IDTo",
        "outputId": "295eb1c7-45ae-45b5-bacb-555bf2b3ca2f"
      },
      "execution_count": 5,
      "outputs": [
        {
          "output_type": "stream",
          "name": "stdout",
          "text": [
            "Found existing installation: fitz 0.0.1.dev2\n",
            "Uninstalling fitz-0.0.1.dev2:\n",
            "  Successfully uninstalled fitz-0.0.1.dev2\n",
            "Collecting PyMuPDF\n",
            "  Downloading pymupdf-1.26.5-cp39-abi3-manylinux_2_28_x86_64.whl.metadata (3.4 kB)\n",
            "Downloading pymupdf-1.26.5-cp39-abi3-manylinux_2_28_x86_64.whl (24.1 MB)\n",
            "\u001b[2K   \u001b[90m━━━━━━━━━━━━━━━━━━━━━━━━━━━━━━━━━━━━━━━━\u001b[0m \u001b[32m24.1/24.1 MB\u001b[0m \u001b[31m76.2 MB/s\u001b[0m eta \u001b[36m0:00:00\u001b[0m\n",
            "\u001b[?25hInstalling collected packages: PyMuPDF\n",
            "Successfully installed PyMuPDF-1.26.5\n"
          ]
        },
        {
          "output_type": "display_data",
          "data": {
            "application/vnd.colab-display-data+json": {
              "pip_warning": {
                "packages": [
                  "fitz"
                ]
              },
              "id": "e24817441aaa41d1b16d9bc55282ae42"
            }
          },
          "metadata": {}
        }
      ]
    },
    {
      "cell_type": "code",
      "execution_count": 3,
      "metadata": {
        "colab": {
          "base_uri": "https://localhost:8080/"
        },
        "id": "xoa_h6dMHCco",
        "outputId": "0b82c718-af84-44d7-9353-2ace37354d73"
      },
      "outputs": [
        {
          "output_type": "stream",
          "name": "stderr",
          "text": [
            "[nltk_data] Downloading package punkt to /root/nltk_data...\n",
            "[nltk_data]   Package punkt is already up-to-date!\n",
            "[nltk_data] Downloading package punkt_tab to /root/nltk_data...\n",
            "[nltk_data]   Package punkt_tab is already up-to-date!\n"
          ]
        }
      ],
      "source": [
        "\n",
        "\n",
        "import fitz\n",
        "import re\n",
        "import nltk\n",
        "from nltk.tokenize import sent_tokenize\n",
        "\n",
        "\n",
        "nltk.download('punkt')\n",
        "nltk.download('punkt_tab')\n",
        "\n",
        "\n",
        "\n",
        "pdf_path = \"/content/A_Brief_Introduction_To_AI.pdf\"\n",
        "doc = fitz.open(pdf_path)\n"
      ]
    },
    {
      "cell_type": "markdown",
      "source": [
        "Basic preprocessing the data by removing extra lines,spaces,page numbers,special symbols and headers"
      ],
      "metadata": {
        "id": "I44yX_uKI4lp"
      }
    },
    {
      "cell_type": "code",
      "source": [
        "all_text = []\n",
        "\n",
        "for page_num, page in enumerate(doc, start=1):\n",
        "    text = page.get_text(\"text\")\n",
        "\n",
        "\n",
        "    text = re.sub(r'\\n+', ' ', text)\n",
        "    text = re.sub(r'\\s+', ' ', text)\n",
        "\n",
        "    text = re.sub(r'(Page\\s*\\d+)|(\\b\\d+\\b(?:\\s*/\\s*\\d+)?)', '', text, flags=re.IGNORECASE)\n",
        "\n",
        "    text = re.sub(r'[•◦▪●]', '', text)\n",
        "\n",
        "    if page_num == 1:\n",
        "        first_page_sample = text[:100]\n",
        "    else:\n",
        "        text = text.replace(first_page_sample, '')\n",
        "\n",
        "    all_text.append(text.strip())\n",
        "\n",
        "doc.close()"
      ],
      "metadata": {
        "id": "Z8HZ1S_cIohz"
      },
      "execution_count": 4,
      "outputs": []
    },
    {
      "cell_type": "markdown",
      "source": [
        "Combine text from all pages"
      ],
      "metadata": {
        "id": "lACyhNbaJNLG"
      }
    },
    {
      "cell_type": "code",
      "source": [
        "clean_text = \" \".join(all_text)\n",
        "clean_text = clean_text.strip()"
      ],
      "metadata": {
        "id": "xqp577u7JQ4V"
      },
      "execution_count": 5,
      "outputs": []
    },
    {
      "cell_type": "markdown",
      "source": [
        "splitting the data into chunks of size 512"
      ],
      "metadata": {
        "id": "6Dlc0CpIJas7"
      }
    },
    {
      "cell_type": "code",
      "source": [
        "sentences = sent_tokenize(clean_text)\n",
        "chunks = []\n",
        "current_chunk = []\n",
        "current_length = 0\n",
        "max_tokens = 512\n",
        "\n",
        "for sentence in sentences:\n",
        "    words = sentence.split()\n",
        "    sentence_length = len(words)\n",
        "\n",
        "    # If adding this sentence makes chunk too big, start a new one\n",
        "    if current_length + sentence_length > max_tokens:\n",
        "        chunks.append(\" \".join(current_chunk))\n",
        "        current_chunk = [sentence]\n",
        "        current_length = sentence_length\n",
        "    else:\n",
        "        current_chunk.append(sentence)\n",
        "        current_length += sentence_length\n",
        "\n",
        "\n",
        "if current_chunk:\n",
        "    chunks.append(\" \".join(current_chunk))"
      ],
      "metadata": {
        "id": "nLRq1oUrJZwz"
      },
      "execution_count": 6,
      "outputs": []
    },
    {
      "cell_type": "markdown",
      "source": [
        "example printing 1st chunk"
      ],
      "metadata": {
        "id": "rL_Lt42JJwHS"
      }
    },
    {
      "cell_type": "code",
      "source": [
        "print(chunks[0][:1000])"
      ],
      "metadata": {
        "colab": {
          "base_uri": "https://localhost:8080/"
        },
        "id": "0Ze83DMTJgwL",
        "outputId": "0cf8ef22-011b-463c-a853-00cdc9d887c4"
      },
      "execution_count": 7,
      "outputs": [
        {
          "output_type": "stream",
          "name": "stdout",
          "text": [
            "A Brief Introduction to Artificial Intelligence What is AI and how is it going to shape the future By Dibbyo Saha, Undergraduate Student, Computer Science, Ryerson University What is Artificial Intelligence? Image by Gerd Altmann from Pixabay Generally speaking, Artificial Intelligence is a computing concept that helps a machine think and solve complex problems as we humans do with our intelligence. For example, we perform a task, make mistakes and learn from our mistakes (At least the wise ones of us do!). Likewise, an AI or Artificial Intelligence is supposed to work on a problem, make some mistakes in solving the problem and learn from the problems in a self-correcting manner as a part of its self-improvement. Or in other words, think of this like playing a game of chess. Every bad move you make reduces your chances of winning the game. So, every time you lose against your friend, you try remembering the moves you made which you shouldn’t have and apply that knowledge in your next g\n"
          ]
        }
      ]
    }
  ]
}